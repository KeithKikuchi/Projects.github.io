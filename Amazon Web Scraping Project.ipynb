{
 "cells": [
  {
   "cell_type": "markdown",
   "id": "36afbe85-a049-4629-985a-c8aef0c8094a",
   "metadata": {},
   "source": [
    "# Amazon Web Scraping Project"
   ]
  },
  {
   "cell_type": "code",
   "execution_count": null,
   "id": "1ff1fc48-fda1-4a8d-8f7a-6bbe1ed8fad6",
   "metadata": {},
   "outputs": [],
   "source": [
    "# Import libraries\n",
    "\n",
    "from bs4 import BeautifulSoup\n",
    "import requests\n",
    "import time\n",
    "import datetime\n",
    "\n",
    "import smtplib"
   ]
  },
  {
   "cell_type": "code",
   "execution_count": null,
   "id": "f32ea50f-c776-444e-a655-ddeba8c3f798",
   "metadata": {},
   "outputs": [],
   "source": [
    "# Connect to Webpage and pull in data\n",
    "\n",
    "URL = 'https://www.amazon.com/Apple-Cancellation-Transparency-Personalized-High-Fidelity/dp/B0D1XD1ZV3/ref=sr_1_1_sspa?crid=1A7VM99L240G1&dib=eyJ2IjoiMSJ9.z3PTqJjFH4z-EE5L1NErpsDPT7k66rQaLv5tl2lcKGDv5jXk2hI_U0n2fKhjn12Qe6Shf5quhFPbn2WRy0WWT71hLE20Z6UIvOgDVk7P4wBgl9YFY_hq4N64jEl_1mn32wbqjyr67T8XEIbS9GBZ2dXNfrGKtprCHl6s8AQDVk71JWx8BiN4qS8E3xIr9ELETHILropnM5ffuTVO-RRNV1LqKnkyiWR-ud6rjkABXNg.wA-iu-uoNSkna2ePR09FjC1ovKJGeHoH0dlVaPXleaw&dib_tag=se&keywords=airpods&qid=1735756232&sprefix=airpods%2Caps%2C123&sr=8-1-spons&sp_csd=d2lkZ2V0TmFtZT1zcF9hdGY&psc=1'\n",
    "\n",
    "headers = {\"User-Agent\": \"Mozilla/5.0 (Windows NT 10.0; Win64; x64) AppleWebKit/537.36 (KHTML, like Gecko) Chrome/131.0.0.0 Safari/537.36\", \"Accept-Encoding\":\"gzip, deflate\", \"Accept\":\"text/html,application/xhtml+xml,application/xml;q=0.9,*/*;q=0.8\", \"DNT\":\"1\",\"Connection\":\"close\", \"Upgrade-Insecure-Requests\":\"1\"}\n",
    "\n",
    "page = requests.get(URL, headers=headers)\n",
    "\n",
    "soup1 = BeautifulSoup(page.content, \"html.parser\")\n",
    "\n",
    "soup2 = BeautifulSoup(soup1.prettify(), \"html.parser\")\n",
    "\n",
    "title = soup2.find(id='productTitle').get_text()\n",
    "\n",
    "price_symbol = soup2.find(class_='a-price-symbol').get_text(strip=True)\n",
    "price_whole = soup2.find(class_='a-price-whole').get_text(strip=True)\n",
    "price_fraction = soup2.find(class_='a-price-fraction').get_text(strip=True)\n",
    "price = f'{price_symbol}{price_whole}{price_fraction}'\n",
    "\n",
    "\n",
    "print(title)\n",
    "print(price)"
   ]
  },
  {
   "cell_type": "code",
   "execution_count": 34,
   "id": "edd85c07-cb0e-4f60-af3f-62afdb21c99b",
   "metadata": {},
   "outputs": [
    {
     "name": "stdout",
     "output_type": "stream",
     "text": [
      "Apple AirPods Pro 2 Wireless Earbuds, Active Noise Cancellation, Hearing Aid Feature, Bluetooth Headphones, Transparency, Personalized Spatial Audio, High-Fidelity Sound, H2 Chip, USB-C Charging\n",
      "189.99\n"
     ]
    }
   ],
   "source": [
    "# Clean up the data a little bit\n",
    "\n",
    "price = price.strip()[1:]\n",
    "title = title.strip()\n",
    "\n",
    "print(title)\n",
    "print(price)"
   ]
  },
  {
   "cell_type": "code",
   "execution_count": 35,
   "id": "cd865ca2-0e90-4ea5-b355-f34fe23fbc6a",
   "metadata": {},
   "outputs": [
    {
     "name": "stdout",
     "output_type": "stream",
     "text": [
      "2025-01-01\n"
     ]
    }
   ],
   "source": [
    "# Create a Timestamp for your output to track when data was collected\n",
    "\n",
    "import datetime\n",
    "\n",
    "today = datetime.date.today()\n",
    "\n",
    "print(today)"
   ]
  },
  {
   "cell_type": "code",
   "execution_count": null,
   "id": "ef1f5530-25b8-4e6f-b6d3-c2d2ac9c2ff3",
   "metadata": {},
   "outputs": [],
   "source": [
    "# Create CSV and write headers and data into the file\n",
    "\n",
    "import csv \n",
    "\n",
    "header = ['Title', 'Price', 'Date']\n",
    "data = [title, price, today]\n",
    "\n",
    "\n",
    "#with open('AmazonWebScraperDataset.csv', 'w', newline='', encoding='UTF8') as f:\n",
    "    #writer = csv.writer(f)\n",
    "    #writer.writerow(header)\n",
    "    #writer.writerow(data)"
   ]
  },
  {
   "cell_type": "code",
   "execution_count": 42,
   "id": "e64bc469-6c5b-4917-8b5e-1b7087a1bf66",
   "metadata": {},
   "outputs": [
    {
     "name": "stdout",
     "output_type": "stream",
     "text": [
      "                                               Title   Price        Date\n",
      "0  Apple AirPods Pro 2 Wireless Earbuds, Active N...  189.99  2025-01-01\n"
     ]
    }
   ],
   "source": [
    "import pandas as pd\n",
    "\n",
    "df = pd.read_csv(r'C:\\Users\\kkiku\\OneDrive\\Documents\\Data Analyst\\Pandas Projects\\AmazonWebScraperDataset.csv')\n",
    "\n",
    "print(df)"
   ]
  },
  {
   "cell_type": "code",
   "execution_count": null,
   "id": "f32d7e3e-e6c3-48ed-ba4a-34d299a657a5",
   "metadata": {},
   "outputs": [],
   "source": [
    "# Appending data to the csv\n",
    "\n",
    "with open('AmazonWebScraperDataset.csv', 'a+', newline='', encoding='UTF8') as f:\n",
    "    writer = csv.writer(f)\n",
    "    writer.writerow(data)"
   ]
  },
  {
   "cell_type": "code",
   "execution_count": null,
   "id": "786e030f-1206-422a-8fc4-ca20a395e838",
   "metadata": {},
   "outputs": [],
   "source": [
    "# Combine all of the above code into one function\n",
    "\n",
    "\n",
    "def check_price():\n",
    "    URL = 'https://www.amazon.com/Apple-Cancellation-Transparency-Personalized-High-Fidelity/dp/B0D1XD1ZV3/ref=sr_1_1_sspa?crid=1A7VM99L240G1&dib=eyJ2IjoiMSJ9.z3PTqJjFH4z-EE5L1NErpsDPT7k66rQaLv5tl2lcKGDv5jXk2hI_U0n2fKhjn12Qe6Shf5quhFPbn2WRy0WWT71hLE20Z6UIvOgDVk7P4wBgl9YFY_hq4N64jEl_1mn32wbqjyr67T8XEIbS9GBZ2dXNfrGKtprCHl6s8AQDVk71JWx8BiN4qS8E3xIr9ELETHILropnM5ffuTVO-RRNV1LqKnkyiWR-ud6rjkABXNg.wA-iu-uoNSkna2ePR09FjC1ovKJGeHoH0dlVaPXleaw&dib_tag=se&keywords=airpods&qid=1735756232&sprefix=airpods%2Caps%2C123&sr=8-1-spons&sp_csd=d2lkZ2V0TmFtZT1zcF9hdGY&psc=1'\n",
    "\n",
    "    headers = {\"User-Agent\": \"Mozilla/5.0 (Windows NT 10.0; Win64; x64) AppleWebKit/537.36 (KHTML, like Gecko) Chrome/131.0.0.0 Safari/537.36\", \"Accept-Encoding\":\"gzip, deflate\", \"Accept\":\"text/html,application/xhtml+xml,application/xml;q=0.9,*/*;q=0.8\", \"DNT\":\"1\",\"Connection\":\"close\", \"Upgrade-Insecure-Requests\":\"1\"}\n",
    "\n",
    "    page = requests.get(URL, headers=headers)\n",
    "\n",
    "    soup1 = BeautifulSoup(page.content, \"html.parser\")\n",
    "\n",
    "    soup2 = BeautifulSoup(soup1.prettify(), \"html.parser\")\n",
    "\n",
    "    title = soup2.find(id='productTitle').get_text()\n",
    "\n",
    "    price_symbol = soup2.find(class_='a-price-symbol').get_text(strip=True)\n",
    "    price_whole = soup2.find(class_='a-price-whole').get_text(strip=True)\n",
    "    price_fraction = soup2.find(class_='a-price-fraction').get_text(strip=True)\n",
    "    price = f'{price_symbol}{price_whole}{price_fraction}'\n",
    "\n",
    "    price = price.strip()[1:]\n",
    "    title = title.strip()\n",
    "\n",
    "    import datetime\n",
    "\n",
    "    today = datetime.date.today()\n",
    "    \n",
    "    import csv \n",
    "\n",
    "    header = ['Title', 'Price', 'Date']\n",
    "    data = [title, price, today]\n",
    "\n",
    "    with open('AmazonWebScraperDataset.csv', 'a+', newline='', encoding='UTF8') as f:\n",
    "        writer = csv.writer(f)\n",
    "        writer.writerow(data)\n",
    "\n",
    "    if(price < 175):\n",
    "        send_mail()"
   ]
  },
  {
   "cell_type": "code",
   "execution_count": null,
   "id": "c7ae1e26-54b0-4ebb-82d0-59efc5a7e64b",
   "metadata": {},
   "outputs": [],
   "source": [
    "# Runs check_price after a set time and inputs data into my CSV\n",
    "\n",
    "while(True):\n",
    "    check_price()\n",
    "    time.sleep(86400)"
   ]
  },
  {
   "cell_type": "code",
   "execution_count": null,
   "id": "0541beac-62cb-4fa1-8b51-439a75b77b99",
   "metadata": {},
   "outputs": [],
   "source": [
    "import pandas as pd\n",
    "\n",
    "df = pd.read_csv(r'C:\\Users\\kkiku\\OneDrive\\Documents\\Data Analyst\\Pandas Projects\\AmazonWebScraperDataset.csv')\n",
    "\n",
    "print(df)"
   ]
  },
  {
   "cell_type": "code",
   "execution_count": null,
   "id": "6e7f4f83-4514-4fa2-9471-aa37e7910d96",
   "metadata": {},
   "outputs": [],
   "source": [
    "# Sending myself an email (just for fun) when a price hits below a certain level\n",
    "# out with this script\n",
    "\n",
    "def send_mail():\n",
    "    server = smtplib.SMTP_SSL('smtp.gmail.com',465)\n",
    "    server.ehlo()\n",
    "    #server.starttls()\n",
    "    server.ehlo()\n",
    "    server.login('kkikuchi@carthage.edu','xxxxxxxxxxxxxxxx')\n",
    "    \n",
    "    subject = \"The AirPods Pro 2 you want is below $175! Now is your chance to buy!\"\n",
    "    body = \"Keith, This is the moment we have been waiting for. Now is your chance to pick up the AirPods Pro 2. Don't mess it up! Link here: https://www.amazon.com/Apple-Cancellation-Transparency-Personalized-High-Fidelity/dp/B0D1XD1ZV3/ref=sr_1_1_sspa?crid=1A7VM99L240G1&dib=eyJ2IjoiMSJ9.z3PTqJjFH4z-EE5L1NErpsDPT7k66rQaLv5tl2lcKGDv5jXk2hI_U0n2fKhjn12Qe6Shf5quhFPbn2WRy0WWT71hLE20Z6UIvOgDVk7P4wBgl9YFY_hq4N64jEl_1mn32wbqjyr67T8XEIbS9GBZ2dXNfrGKtprCHl6s8AQDVk71JWx8BiN4qS8E3xIr9ELETHILropnM5ffuTVO-RRNV1LqKnkyiWR-ud6rjkABXNg.wA-iu-uoNSkna2ePR09FjC1ovKJGeHoH0dlVaPXleaw&dib_tag=se&keywords=airpods&qid=1735756232&sprefix=airpods%2Caps%2C123&sr=8-1-spons&sp_csd=d2lkZ2V0TmFtZT1zcF9hdGY&psc=1\"\n",
    "   \n",
    "    msg = f\"Subject: {subject}\\n\\n{body}\"\n",
    "    \n",
    "    server.sendmail(\n",
    "        'kkikuchi@carthage.edu',\n",
    "        msg\n",
    "     \n",
    "    )"
   ]
  },
  {
   "cell_type": "code",
   "execution_count": null,
   "id": "4f7808d8-7066-495d-96b3-605cd61078fe",
   "metadata": {},
   "outputs": [],
   "source": []
  }
 ],
 "metadata": {
  "kernelspec": {
   "display_name": "Python 3 (ipykernel)",
   "language": "python",
   "name": "python3"
  },
  "language_info": {
   "codemirror_mode": {
    "name": "ipython",
    "version": 3
   },
   "file_extension": ".py",
   "mimetype": "text/x-python",
   "name": "python",
   "nbconvert_exporter": "python",
   "pygments_lexer": "ipython3",
   "version": "3.12.7"
  }
 },
 "nbformat": 4,
 "nbformat_minor": 5
}
