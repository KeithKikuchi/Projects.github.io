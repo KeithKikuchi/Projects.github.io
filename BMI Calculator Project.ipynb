{
 "cells": [
  {
   "cell_type": "markdown",
   "id": "5d98f410-b2e2-4921-9437-b3f798cbd7b5",
   "metadata": {},
   "source": [
    "# BMI Calculator"
   ]
  },
  {
   "cell_type": "code",
   "execution_count": 176,
   "id": "a01bae85-98ec-4eca-b0c9-7c3871d820da",
   "metadata": {},
   "outputs": [
    {
     "name": "stdin",
     "output_type": "stream",
     "text": [
      "Enter your name:  Keith\n",
      "Enter your weight in pounds:  140\n",
      "Enter your height in inches:  66\n"
     ]
    },
    {
     "name": "stdout",
     "output_type": "stream",
     "text": [
      "Your BMI is 23.461891643709826\n",
      "Keith, you are normal weight. Great job!\n"
     ]
    }
   ],
   "source": [
    "name = input(\"Enter your name: \")\n",
    "\n",
    "weight = int(input(\"Enter your weight in pounds: \"))\n",
    "\n",
    "height = int(input(\"Enter your height in inches: \"))\n",
    "\n",
    "BMI = (weight * 730) / (height * height)\n",
    "\n",
    "print(\"Your BMI is\", (BMI))\n",
    "\n",
    "if BMI>0:\n",
    "    if(BMI<18.4):\n",
    "        print(name +\", you are underweight. You need to eat more food!\")\n",
    "    elif(BMI<=24.9):\n",
    "        print(name +\", you are normal weight. Great job!\")\n",
    "    elif(BMI<29.9):\n",
    "        print(name +\", you are overweight. Eat a little less!\")\n",
    "    elif(BMI<34.9):\n",
    "        print(name +\", you are obese. Cut out the bad food and exercise!\")\n",
    "    elif(BMI<39.9):\n",
    "        print(name +\", you are severely obese. Talk to a health coach and trainer!\")\n",
    "    elif(BMI>40):\n",
    "        print(name +\", you are morbidly obese. Call the hospital!\")\n",
    "else:\n",
    "    print(\"Enter valid inputs.\")"
   ]
  },
  {
   "cell_type": "code",
   "execution_count": null,
   "id": "448b8c11-ac3b-4e45-903a-b4de8f558f53",
   "metadata": {},
   "outputs": [],
   "source": []
  }
 ],
 "metadata": {
  "kernelspec": {
   "display_name": "Python 3 (ipykernel)",
   "language": "python",
   "name": "python3"
  },
  "language_info": {
   "codemirror_mode": {
    "name": "ipython",
    "version": 3
   },
   "file_extension": ".py",
   "mimetype": "text/x-python",
   "name": "python",
   "nbconvert_exporter": "python",
   "pygments_lexer": "ipython3",
   "version": "3.12.7"
  }
 },
 "nbformat": 4,
 "nbformat_minor": 5
}
