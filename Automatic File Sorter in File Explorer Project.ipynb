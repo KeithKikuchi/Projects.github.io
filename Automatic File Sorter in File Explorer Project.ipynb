{
 "cells": [
  {
   "cell_type": "markdown",
   "id": "6e9306e7-6302-4e13-8438-a48fb6276578",
   "metadata": {},
   "source": [
    "# Automatic File Sorter in File Explorer"
   ]
  },
  {
   "cell_type": "code",
   "execution_count": 226,
   "id": "d40e2e90-f5d5-4917-8f7b-2d5abf20efd7",
   "metadata": {},
   "outputs": [],
   "source": [
    "import os, shutil"
   ]
  },
  {
   "cell_type": "code",
   "execution_count": 228,
   "id": "2eb6e734-35f1-45d4-9411-91b838def922",
   "metadata": {},
   "outputs": [],
   "source": [
    "path = r\"C:/Users/kkiku/OneDrive/Documents/Data Analyst/Python Tutorial/\""
   ]
  },
  {
   "cell_type": "code",
   "execution_count": 230,
   "id": "b549cd37-2c2e-4a60-9b57-a55d3745517c",
   "metadata": {},
   "outputs": [],
   "source": [
    "file_name = os.listdir(path)"
   ]
  },
  {
   "cell_type": "code",
   "execution_count": 234,
   "id": "f2277de8-7b8e-492a-ad03-f1454ec4fe1e",
   "metadata": {},
   "outputs": [],
   "source": [
    "folder_names = ['excel files', 'image files', 'text files']\n",
    "\n",
    "for loop in range(0,3):\n",
    "    if not os.path.exists(path + folder_names[loop]):\n",
    "        os.makedirs(path + folder_names[loop])\n",
    "\n",
    "for file in file_name:\n",
    "    if \".xlsx\" in file and not os.path.exists(path + \"excel files/\" + file):\n",
    "        shutil.move(path + file, path + \"excel files/\" + file)\n",
    "    elif \".jpg\" in file and not os.path.exists(path + \"image files/\" + file):\n",
    "        shutil.move(path + file, path + \"image files/\" + file)\n",
    "    elif \".txt\" in file and not os.path.exists(path + \"text files/\" + file):\n",
    "        shutil.move(path + file, path + \"text files/\" + file)"
   ]
  }
 ],
 "metadata": {
  "kernelspec": {
   "display_name": "Python 3 (ipykernel)",
   "language": "python",
   "name": "python3"
  },
  "language_info": {
   "codemirror_mode": {
    "name": "ipython",
    "version": 3
   },
   "file_extension": ".py",
   "mimetype": "text/x-python",
   "name": "python",
   "nbconvert_exporter": "python",
   "pygments_lexer": "ipython3",
   "version": "3.12.7"
  }
 },
 "nbformat": 4,
 "nbformat_minor": 5
}
